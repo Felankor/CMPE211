{
 "cells": [
  {
   "cell_type": "markdown",
   "metadata": {},
   "source": [
    "# Recommender Systems From Scratch with Python\n",
    "\n",
    "\n",
    "Lets look at the chapter 2 of the book _Collective Intelligence_ which is written by Toby Segaran. Here, for the recommendation of movies, we start with a toy data and than we will use movielens dataset.\n",
    "\n",
    "\n",
    "\n",
    "<p style=\"text-align:center;\"><img src=\"fig/PCI.jpg\"  width=\"240\" ></p>\n"
   ]
  },
  {
   "cell_type": "markdown",
   "metadata": {},
   "source": [
    "## Dictionary Review in Python\n",
    "\n",
    "A dictionary is a symbol-table. We store (key:value) pairs in a dictionary. Lets see how to add, update and delete pairs in a dictionary.\n"
   ]
  },
  {
   "cell_type": "code",
   "execution_count": 1,
   "metadata": {},
   "outputs": [
    {
     "name": "stdout",
     "output_type": "stream",
     "text": [
      "Critics of Uzay on the movie Superman Returns:  3.0\n"
     ]
    }
   ],
   "source": [
    "##############################################################################\n",
    "# A dictionary of some movies and their ratings for Uzay\n",
    "# This dictionary uses a ranking from 1 to 5\n",
    "Uzay = {'Superman Returns': 3.0, 'Gladiator': 4.0}\n",
    "print(\"Critics of Uzay on the movie Superman Returns: \", Uzay['Superman Returns'])"
   ]
  },
  {
   "cell_type": "code",
   "execution_count": 2,
   "metadata": {},
   "outputs": [
    {
     "name": "stdout",
     "output_type": "stream",
     "text": [
      "Critics of Uzay:  {'Superman Returns': 3.0, 'Gladiator': 4.0, 'Star Wars': 4.0}\n"
     ]
    }
   ],
   "source": [
    "# add new key:value pair to the dictionary by command <dict>.setdefault(\"<key>\", <value>)\n",
    "Uzay.setdefault(\"Star Wars\", 4.0)\n",
    "print(\"Critics of Uzay: \",Uzay)"
   ]
  },
  {
   "cell_type": "code",
   "execution_count": 3,
   "metadata": {},
   "outputs": [
    {
     "name": "stdout",
     "output_type": "stream",
     "text": [
      "Critics of Uzay:  {'Superman Returns': 3.0, 'Gladiator': 4.0, 'Star Wars': 4.5}\n"
     ]
    }
   ],
   "source": [
    "Uzay['Star Wars'] = Uzay['Star Wars'] + 0.5\n",
    "Uzay.setdefault(\"Star Wars\", 0.0) # This does not make Uzay['Star Wars'] to zero\n",
    "print(\"Critics of Uzay: \",Uzay)"
   ]
  },
  {
   "cell_type": "code",
   "execution_count": 4,
   "metadata": {},
   "outputs": [
    {
     "name": "stdout",
     "output_type": "stream",
     "text": [
      "Critics of Uzay:  {'Gladiator': 4.0, 'Star Wars': 4.5}\n"
     ]
    }
   ],
   "source": [
    "# Deletion\n",
    "del Uzay['Superman Returns']\n",
    "print(\"Critics of Uzay: \",Uzay)"
   ]
  },
  {
   "cell_type": "code",
   "execution_count": 5,
   "metadata": {},
   "outputs": [
    {
     "name": "stdout",
     "output_type": "stream",
     "text": [
      "Critics of Uzay:  {'Gladiator': 4.5, 'Star Wars': 4.5}\n"
     ]
    }
   ],
   "source": [
    "# Update\n",
    "Uzay['Gladiator'] = 4.5\n",
    "print(\"Critics of Uzay: \",Uzay)"
   ]
  },
  {
   "cell_type": "markdown",
   "metadata": {},
   "source": [
    "### Toy Data\n",
    "First we start with a toy data. Data will be stored in a nested dictionary."
   ]
  },
  {
   "cell_type": "code",
   "execution_count": 6,
   "metadata": {},
   "outputs": [
    {
     "name": "stdout",
     "output_type": "stream",
     "text": [
      "Uzay's critics for the movie Lady Gladiator:  5.0\n"
     ]
    }
   ],
   "source": [
    "##############################################################################\n",
    "# A Nested Dictionary of movie critics a\n",
    "# Outer Dictionary: Key is person, Value is a set of critics\n",
    "# Inner Dictionary: Key is movie , Value is a rating score\n",
    "critics={\n",
    "    'Selin':{'Star Wars':1.0,'Amelie':5.0,'Gladiator':1.0},\n",
    "    'Ahmet':{'Star Wars':5.0,'Amelie':3.0,'Gladiator':4.0},\n",
    "    'Fatih':{'Star Wars':4.0,'Amelie':3.5,'Gladiator':5.0},\n",
    "    'Uzay': {'Gladiator':5.0}\n",
    "}\n",
    "print(\"Uzay's critics for the movie Lady Gladiator: \", critics['Uzay']['Gladiator'])"
   ]
  },
  {
   "cell_type": "code",
   "execution_count": 7,
   "metadata": {},
   "outputs": [
    {
     "name": "stdout",
     "output_type": "stream",
     "text": [
      "Selin\n",
      "Ahmet\n",
      "Fatih\n",
      "Uzay\n"
     ]
    }
   ],
   "source": [
    "# People in our toy data\n",
    "for person in critics.keys():\n",
    "    print(person)"
   ]
  },
  {
   "cell_type": "markdown",
   "metadata": {},
   "source": [
    "## Recommendation Engine\n",
    "\n",
    "    * Find people who share tastes\n",
    "    * Make recommendations based on what similar people like\n",
    "\n",
    "### Prediction based on others rating score\n",
    "<p style=\"text-align:center;\"><img src=\"fig/reco.jpg\"  width=\"500\" ></p>\n",
    "\n",
    "Above you see two cases, \n",
    "\n",
    "#### in case I\n",
    "Uzay is equally similar to all of his friends. Suppose all of his friends watched a movie m that Uzay has not seen yet. What do you expect to be Uzay's rating on the movie m?\n",
    "\n",
    "$$\n",
    "score(Uzay, m) =\\frac{1}{n} \\sum score(friend, m) = \n",
    "\\frac{4 + 1 + 5}{3} = 3.3\n",
    "$$\n",
    "\n",
    "Here n is number of friends. However, this is not realistic. In real life, people's preferences are different from one another. \n",
    "#### in case II\n",
    "we have similarities. What we expect is, more similar friends should have a higher impact on determining Uzay's rating score.\n",
    "\n",
    "$$\n",
    "score(Uzay, m) =\\frac{\\sum sim(Uzay, friend) \\times score(friend, m)}{\\sum sim(Uzay, friend)}  = \n",
    "\\frac{1.0 \\times  4 + 0.2 \\times 1 + 0.5 \\times  5}{1.0 + 0.2 + 0.5} = 3.94\n",
    "$$\n",
    "\n",
    "This is called weighted sum. And since the weight(similarity) of Fatih is bigger result is more close to Fatih's rating score and more distant than less similar friends ratings. \n",
    "\n",
    "### Which movie to recommend?\n",
    "<p style=\"text-align:center;\"><img src=\"fig/movie.jpg\"  width=\"500\" ></p>\n",
    "\n",
    "Predict Uzay's rating for the movie Amelie\n",
    "$$\n",
    "score(Uzay, Amelie) =\n",
    "\\frac{1.0 \\times  3.5 + 0.2 \\times 5 + 0.5 \\times  3}{1.0 + 0.2 + 0.5} = 3.82\n",
    "$$\n",
    "\n",
    "Predict Uzay's rating for the movie Star Wars\n",
    "$$\n",
    "score(Uzay, Star Wars) =\n",
    "\\frac{1.0 \\times  4 + 0.2 \\times 1 + 0.5 \\times  5}{1.0 + 0.2 + 0.5} = 3.94\n",
    "$$\n",
    "\n",
    "If you are to recommend one movie, you should select the movie which has maximum predicted score. That is Star Wars !\n"
   ]
  },
  {
   "cell_type": "markdown",
   "metadata": {},
   "source": [
    "## Compute Similarity \n",
    "We have seen how to store our data and how to predict one's score to make recommendation. One piece is missing how to calculate similarity of two person?\n",
    "\n",
    "#### Similarity Based on Euclidean Distance\n",
    "Similarity between the preferences of two people is inversely proportional to their euclidean distance. We add 1 to euclidean distance to avoid division-by-zero error.\n",
    "\n",
    "$$\n",
    "sim(a,b) = \\frac{1}{1+dist(a,b)}\n",
    "$$"
   ]
  },
  {
   "cell_type": "code",
   "execution_count": 8,
   "metadata": {},
   "outputs": [
    {
     "name": "stdout",
     "output_type": "stream",
     "text": [
      "16.0\n"
     ]
    }
   ],
   "source": [
    "from math import sqrt\n",
    "def dist(prefs,person1,person2,item):\n",
    "    \"\"\" Compute Euclidean Distance\n",
    "    between two person's preference on the item\n",
    "    based on the given nested dictionary\n",
    "    \"\"\"\n",
    "    difference = prefs[person1][item] - prefs[person2][item]\n",
    "    return pow(difference, 2)\n",
    "\n",
    "print(dist(critics, 'Uzay', 'Selin', 'Gladiator'))"
   ]
  },
  {
   "cell_type": "code",
   "execution_count": 9,
   "metadata": {},
   "outputs": [
    {
     "name": "stdout",
     "output_type": "stream",
     "text": [
      "1.0\n"
     ]
    }
   ],
   "source": [
    "print(dist(critics, 'Uzay', 'Ahmet', 'Gladiator'))"
   ]
  },
  {
   "cell_type": "markdown",
   "metadata": {},
   "source": [
    "\n",
    "Lets look at our dataset:\n",
    "\n",
    "|               |  Star Wars  | Amelie         | Gladiator         |\n",
    "| ------------- | ------------- | ------------- |------------- |\n",
    "| Fatih         | 4 | 3.5| 5|\n",
    "| Selin         | 1 | 5| 1|\n",
    "| Ahmet         | 5 | 3| 4|\n",
    "| Uzay          | ? | ?| 5|\n",
    "\n",
    "If we represent our dataset in x-y coordinate system,\n",
    "where x-axis is the score for the movie Star Wars\n",
    "and y-axis is the score for the movie Amelie\n",
    "<p style=\"text-align:center;\"><img src=\"fig/distance.jpg\"  width=\"200\" ></p>\n",
    "\n"
   ]
  },
  {
   "cell_type": "code",
   "execution_count": 10,
   "metadata": {},
   "outputs": [
    {
     "name": "stdout",
     "output_type": "stream",
     "text": [
      "16.0\n",
      "4.0\n"
     ]
    }
   ],
   "source": [
    "##############################################################################\n",
    "# A Nested Dictionary of movie critics a\n",
    "# Outer Dictionary: Key is person, Value is a set of critics\n",
    "# Inner Dictionary: Key is movie , Value is a rating score\n",
    "critics={\n",
    "    'Selin':{'Star Wars':1.0,'Amelie':5.0,'Gladiator':1.0},\n",
    "    'Ahmet':{'Star Wars':5.0,'Amelie':3.0,'Gladiator':4.0},\n",
    "    'Fatih':{'Star Wars':4.0,'Amelie':3.5,'Gladiator':5.0},\n",
    "    'Uzay': {'Gladiator':5.0}\n",
    "}\n",
    "print(dist(critics, 'Selin', 'Ahmet', 'Star Wars'))\n",
    "print(dist(critics, 'Selin', 'Ahmet', 'Amelie'))"
   ]
  },
  {
   "cell_type": "code",
   "execution_count": 11,
   "metadata": {
    "collapsed": true
   },
   "outputs": [],
   "source": [
    "def intersection(prefs,person1,person2):\n",
    "    # Get the list of shared_items\n",
    "    si={}\n",
    "    for item in prefs[person1]:\n",
    "        if item in prefs[person2]:\n",
    "            si[item]=1\n",
    "    return si"
   ]
  },
  {
   "cell_type": "code",
   "execution_count": 12,
   "metadata": {
    "collapsed": true
   },
   "outputs": [],
   "source": [
    "# Returns a distance-based similarity score for person1 and person2\n",
    "def sim_distance(prefs,person1,person2):\n",
    "    common = intersection(prefs,person1,person2)\n",
    "    # if they have no ratings in common, return 0\n",
    "    if len(common)==0: return 0\n",
    "    # Add up the squares of all the differences for common movies\n",
    "    sum_of_squares = sum([dist(prefs,person1,person2,movie) for movie in common])\n",
    "    return 1 / (1 + sqrt(sum_of_squares))"
   ]
  },
  {
   "cell_type": "code",
   "execution_count": 13,
   "metadata": {
    "scrolled": true
   },
   "outputs": [
    {
     "name": "stdout",
     "output_type": "stream",
     "text": [
      "\n",
      "Sim(Uzay, Fatih) =   1.0\n",
      "Sim(Uzay, Selin) =   0.2\n",
      "Sim(Uzay, Ahmet) =   0.5\n"
     ]
    }
   ],
   "source": [
    "print(\"\\nSim(Uzay, Fatih) =  \", sim_distance(critics,'Uzay','Fatih'))\n",
    "print(\"Sim(Uzay, Selin) =  \", sim_distance(critics,'Uzay','Selin'))\n",
    "print(\"Sim(Uzay, Ahmet) =  \", sim_distance(critics,'Uzay','Ahmet'))"
   ]
  },
  {
   "cell_type": "markdown",
   "metadata": {},
   "source": [
    "#### Similarity Based on Pearson correlation coefficient\n",
    "\n",
    "How much the variables change together divided by the product of how much they vary individually.\n",
    "\n",
    "> Better for unnormalized data where some people make routinely more harshed critics than others. It corrects for grade inflation."
   ]
  },
  {
   "cell_type": "code",
   "execution_count": 14,
   "metadata": {},
   "outputs": [
    {
     "name": "stdout",
     "output_type": "stream",
     "text": [
      "\n",
      "Sim(Uzay, Fatih)  =  0\n",
      "Sim(Fatih, Selin) =  -0.7559289460184555\n",
      "Sim(Fatih, Ahmet) =  0.3273268353539889\n",
      "Sim(Selin, Ahmet) =  -0.8660254037844385\n"
     ]
    }
   ],
   "source": [
    "# This function will return a value between –1 and 1.\n",
    "# Returns the Pearson correlation coefficient for p1 and p2\n",
    "def sim_pearson(prefs,p1,p2):\n",
    "    # Get the list of mutually rated items\n",
    "    si=intersection(prefs,p1,p2)\n",
    "    # Find the number of elements\n",
    "    n=len(si)\n",
    "    # if they are no ratings in common, return 0\n",
    "    if n==0: return 0\n",
    "    # Add up all the preferences\n",
    "    sum1=sum([prefs[p1][it] for it in si])\n",
    "    sum2=sum([prefs[p2][it] for it in si])\n",
    "    # Sum up the squares\n",
    "    sum1Sq=sum([pow(prefs[p1][it],2) for it in si])\n",
    "    sum2Sq=sum([pow(prefs[p2][it],2) for it in si])\n",
    "    # Sum up the products\n",
    "    pSum=sum([prefs[p1][it]*prefs[p2][it] for it in si])\n",
    "    # Calculate Pearson score\n",
    "    num=pSum-(sum1*sum2/n)\n",
    "    den=sqrt((sum1Sq-pow(sum1,2)/n)*(sum2Sq-pow(sum2,2)/n))\n",
    "    if den==0: return 0\n",
    "    r=num/den\n",
    "    return r\n",
    "\n",
    "\n",
    "print(\"\\nSim(Uzay, Fatih)  = \", sim_pearson(critics,'Uzay','Fatih'))\n",
    "print(\"Sim(Fatih, Selin) = \", sim_pearson(critics,'Fatih','Selin'))\n",
    "print(\"Sim(Fatih, Ahmet) = \", sim_pearson(critics,'Fatih','Ahmet'))\n",
    "print(\"Sim(Selin, Ahmet) = \", sim_pearson(critics,'Selin','Ahmet'))"
   ]
  },
  {
   "cell_type": "code",
   "execution_count": 15,
   "metadata": {
    "collapsed": true
   },
   "outputs": [],
   "source": [
    "##############################################################################\n",
    "# Returns the best matches for person from the prefs dictionary.\n",
    "# Number of results and similarity function are optional params.\n",
    "def topMatches(prefs,person,n=5,similarity=sim_distance):\n",
    "    scores=[(similarity(prefs,person,other),other) for other in prefs if other!=person]\n",
    "    # Sort the list so the highest scores appear at the top\n",
    "    scores.sort( )\n",
    "    scores.reverse( )\n",
    "    return scores[0:n]"
   ]
  },
  {
   "cell_type": "code",
   "execution_count": 16,
   "metadata": {},
   "outputs": [
    {
     "name": "stdout",
     "output_type": "stream",
     "text": [
      "\n",
      "Similar (top-3) person like Uzay:  [(1.0, 'Fatih'), (0.5, 'Ahmet'), (0.2, 'Selin')]\n"
     ]
    }
   ],
   "source": [
    "print(\"\\nSimilar (top-3) person like Uzay: \", \n",
    "      topMatches(critics,'Uzay',n=3,similarity=sim_distance));"
   ]
  },
  {
   "cell_type": "code",
   "execution_count": 17,
   "metadata": {},
   "outputs": [
    {
     "name": "stdout",
     "output_type": "stream",
     "text": [
      "Gets recommendations for Uzay: [(3.9411764705882355, 'Star Wars'), (3.5294117647058822, 'Amelie')]\n"
     ]
    }
   ],
   "source": [
    "# Gets recommendations for a person by using a weighted average\n",
    "# of every other user's rankings\n",
    "def getRecommendations(prefs,person,similarity=sim_distance):\n",
    "    totals={}\n",
    "    simSums={}\n",
    "    for other in prefs:\n",
    "        # don't compare me to myself\n",
    "        if other==person: continue\n",
    "        #### Each time you calculate the similarity of person to all others!!\n",
    "        sim=similarity(prefs,person,other)\n",
    "        # ignore scores of zero or lower\n",
    "        if sim<=0: continue\n",
    "        for movie in prefs[other]:\n",
    "            # only score movies I haven't seen yet\n",
    "            if movie not in prefs[person] or prefs[person][movie]==0:\n",
    "                # Similarity * Score\n",
    "                score = prefs[other][movie]\n",
    "                totals.setdefault(movie,0)\n",
    "                totals[movie]+= sim * score\n",
    "                # Sum of similarities\n",
    "                simSums.setdefault(movie,0)\n",
    "                simSums[movie]+=sim\n",
    "    # Create the normalized list\n",
    "    rankings=[(total/simSums[movie],movie) for movie,total in totals.items()]\n",
    "    # Return the sorted list\n",
    "    rankings.sort( )\n",
    "    rankings.reverse( )\n",
    "    return rankings\n",
    "\n",
    "print(\"Gets recommendations for Uzay:\", getRecommendations(critics,'Uzay',similarity=sim_distance))\n",
    "\n"
   ]
  },
  {
   "cell_type": "markdown",
   "metadata": {},
   "source": [
    "## Item-based Collaborative Filtering"
   ]
  },
  {
   "cell_type": "code",
   "execution_count": 18,
   "metadata": {
    "collapsed": true
   },
   "outputs": [],
   "source": [
    "# swap the people and the movies.\n",
    "def transformPrefs(prefs):\n",
    "    result={}\n",
    "    for person in prefs:\n",
    "        for item in prefs[person]:\n",
    "            result.setdefault(item,{})\n",
    "            # Flip movie and person\n",
    "            result[item][person]=prefs[person][item]\n",
    "    return result"
   ]
  },
  {
   "cell_type": "code",
   "execution_count": 19,
   "metadata": {},
   "outputs": [
    {
     "name": "stdout",
     "output_type": "stream",
     "text": [
      "Selin :  {'Star Wars': 1.0, 'Amelie': 5.0, 'Gladiator': 1.0}\n",
      "Ahmet :  {'Star Wars': 5.0, 'Amelie': 3.0, 'Gladiator': 4.0}\n",
      "Fatih :  {'Star Wars': 4.0, 'Amelie': 3.5, 'Gladiator': 5.0}\n",
      "Uzay :  {'Gladiator': 5.0}\n"
     ]
    }
   ],
   "source": [
    "for person in critics.keys():\n",
    "    print(person, \": \", critics[person])"
   ]
  },
  {
   "cell_type": "code",
   "execution_count": 20,
   "metadata": {},
   "outputs": [
    {
     "name": "stdout",
     "output_type": "stream",
     "text": [
      "Star Wars :  {'Selin': 1.0, 'Ahmet': 5.0, 'Fatih': 4.0}\n",
      "Amelie :  {'Selin': 5.0, 'Ahmet': 3.0, 'Fatih': 3.5}\n",
      "Gladiator :  {'Selin': 1.0, 'Ahmet': 4.0, 'Fatih': 5.0, 'Uzay': 5.0}\n"
     ]
    }
   ],
   "source": [
    "# criticsT = movie and person are flipped in critics\n",
    "criticsT = transformPrefs(critics)\n",
    "for movie in criticsT.keys():\n",
    "    print(movie, \": \", criticsT[movie])"
   ]
  },
  {
   "cell_type": "code",
   "execution_count": 21,
   "metadata": {},
   "outputs": [
    {
     "name": "stdout",
     "output_type": "stream",
     "text": [
      "Set of movies most similar to Gladiator\n",
      "\n",
      "TopMatches: [(0.4142135623730951, 'Star Wars'), (0.1856154626682773, 'Amelie')]\n"
     ]
    }
   ],
   "source": [
    "print(\"Set of movies most similar to Gladiator\\n\")\n",
    "print(\"TopMatches:\" ,topMatches(criticsT,'Gladiator'))"
   ]
  },
  {
   "cell_type": "code",
   "execution_count": 22,
   "metadata": {},
   "outputs": [
    {
     "name": "stdout",
     "output_type": "stream",
     "text": [
      "\n",
      "Sim(Gladiator, Star Wars) =   0.4142135623730951\n",
      "Sim(Gladiator, Amelie) =   0.1856154626682773\n",
      "Sim(Star Wars, Amelie) =   0.18181818181818182\n"
     ]
    }
   ],
   "source": [
    "print(\"\\nSim(Gladiator, Star Wars) =  \", sim_distance(criticsT,'Gladiator','Star Wars'))\n",
    "print(\"Sim(Gladiator, Amelie) =  \", sim_distance(criticsT,'Gladiator','Amelie'))\n",
    "print(\"Sim(Star Wars, Amelie) =  \", sim_distance(criticsT,'Star Wars','Amelie'))"
   ]
  },
  {
   "cell_type": "code",
   "execution_count": 23,
   "metadata": {},
   "outputs": [
    {
     "name": "stdout",
     "output_type": "stream",
     "text": [
      "Gets recommendations for whom to invite a premier of a movie  which is similar to Amelie [(5.0, 'Uzay')]\n"
     ]
    }
   ],
   "source": [
    "print(\"Gets recommendations for whom to invite a premier of a movie\",\n",
    "      \" which is similar to Amelie\", getRecommendations(criticsT,'Amelie'))"
   ]
  },
  {
   "cell_type": "markdown",
   "metadata": {},
   "source": [
    "### Pre-Computation Step\n",
    "Precompute the most similar items for each item.\n",
    "\n",
    "> when you wish to make recommendations to a user, you look at his top-rated\n",
    "items and create a weighted list of the items most similar to those.\n",
    "\n",
    "Pre-Computation at low-traffic times \n",
    "> comparisons between items will not change as often as comparisons between users. \n",
    "\n",
    "As the database grows, the similarity scores between items are expected to become more stable.\n"
   ]
  },
  {
   "cell_type": "code",
   "execution_count": 24,
   "metadata": {
    "collapsed": true
   },
   "outputs": [],
   "source": [
    "# Item-based collaborative filtering\n",
    "def calculateSimilarItems(prefs,n=10):\n",
    "    # Pre-Computation Step: Create a dictionary of items showing which other items they\n",
    "    # are most similar to.\n",
    "    result={}\n",
    "    # Invert the preference matrix to be item-centric\n",
    "    itemPrefs = transformPrefs(prefs)\n",
    "    c=0\n",
    "    for item in itemPrefs:\n",
    "        # Status updates for large datasets\n",
    "        c+=1\n",
    "        if c%100==0:\n",
    "            print(\"%d / %d\" % (c,len(itemPrefs)))\n",
    "        # Find the most similar items to this one\n",
    "        scores=topMatches(itemPrefs,item,n=n,similarity=sim_distance)\n",
    "        result[item]=scores\n",
    "    return result"
   ]
  },
  {
   "cell_type": "code",
   "execution_count": 25,
   "metadata": {},
   "outputs": [
    {
     "name": "stdout",
     "output_type": "stream",
     "text": [
      "\n",
      "Item-based collaborative filtering (precomputation):\n",
      "\n",
      "Star Wars :  [(0.4142135623730951, 'Gladiator'), (0.18181818181818182, 'Amelie')]\n",
      "Amelie :  [(0.1856154626682773, 'Gladiator'), (0.18181818181818182, 'Star Wars')]\n",
      "Gladiator :  [(0.4142135623730951, 'Star Wars'), (0.1856154626682773, 'Amelie')]\n"
     ]
    }
   ],
   "source": [
    "itemsim = calculateSimilarItems(critics) # precomputation will be used\n",
    "print(\"\\nItem-based collaborative filtering (precomputation):\\n\")\n",
    "\n",
    "for movie in itemsim.keys():\n",
    "    print(movie, \": \", itemsim[movie])"
   ]
  },
  {
   "cell_type": "code",
   "execution_count": 26,
   "metadata": {},
   "outputs": [
    {
     "name": "stdout",
     "output_type": "stream",
     "text": [
      "\n",
      "Recommendation via (precomputation) for Uzay: [(5.0, 'Star Wars'), (5.0, 'Amelie')]\n"
     ]
    }
   ],
   "source": [
    "##############################################################################\n",
    "# itemMatch is precomputed\n",
    "def getRecommendedItems(prefs,itemMatch,user):\n",
    "    userRatings=prefs[user]\n",
    "    scores={}\n",
    "    totalSim={}\n",
    "    # Loop over items rated by this user\n",
    "    for (item,rating) in userRatings.items( ):\n",
    "        # Loop over items similar to this one\n",
    "        for (similarity,item2) in itemMatch[item]:\n",
    "            # Ignore if this user has already rated this item\n",
    "            if item2 in userRatings: continue\n",
    "            # Weighted sum of rating times similarity\n",
    "            scores.setdefault(item2,0)\n",
    "            scores[item2]+=similarity*rating\n",
    "            # Sum of all the similarities\n",
    "            totalSim.setdefault(item2,0)\n",
    "            totalSim[item2]+=similarity\n",
    "    # Divide each total score by total weighting to get an average\n",
    "    rankings=[(score/totalSim[item],item) for item,score in scores.items( )]\n",
    "    # Return the rankings from highest to lowest\n",
    "    rankings.sort( )\n",
    "    rankings.reverse( )\n",
    "    return rankings\n",
    "\n",
    "print(\"\\nRecommendation via (precomputation) for Uzay:\" ,getRecommendedItems(critics,itemsim,'Uzay'))"
   ]
  },
  {
   "cell_type": "markdown",
   "metadata": {},
   "source": [
    "### Why Item-based recommendation differs from user-based recommendation?\n",
    "\n",
    "<p style=\"text-align:center;\"><img src=\"fig/ItemBased.jpg\"  width=\"500\" ></p>\n",
    "\n",
    "\n",
    "#### Item-based\n",
    "We dont have enough data about Uzay's taste (only one score about the film Galdiator) to correctly predict how much uzay will like Amelie. For the moment all we can do\n",
    "\n",
    "\n",
    "$$\n",
    "score(Uzay, Amelie) =\\frac{\\sum sim(movie, Amelie) \\times score(Uzay, movie)}{\\sum sim(movie, Amelie)}  = \n",
    "\\frac{0.185 \\times  5}{0.185} = 5\n",
    "$$\n",
    "\n",
    "#### User-based\n",
    "We have much more data about uzay's friends likings about the movie Amelie.\n",
    "\n",
    "$$\n",
    "score(Uzay, Amelie) =\\frac{\\sum sim(Uzay, friend) \\times score(friend, Amelie)}{\\sum sim(Uzay, friend)}  = \n",
    "\\frac{1.0 \\times  3.5 + 0.2 \\times 5 + 0.5 \\times  3}{1.0 + 0.2 + 0.5} = 3.82\n",
    "$$\n",
    "\n",
    "### Take home message\n",
    "\n",
    "Without data, algorithms might be meaningless."
   ]
  },
  {
   "cell_type": "markdown",
   "metadata": {},
   "source": [
    "## Real Data: MovieLens\n",
    "\n",
    "Dataset is composed of 1,682 movies by 943 users, each of whom rated at least 20 movies.\n",
    "It can be downloaded from http://www.grouplens.org/node/12 by choosing 100,000 dataset. Or you can download from the below links.\n",
    "\n",
    "[u.data](data/u.data)\n",
    "\n",
    "[u.item](data/u.item)"
   ]
  },
  {
   "cell_type": "code",
   "execution_count": 27,
   "metadata": {
    "collapsed": true
   },
   "outputs": [],
   "source": [
    "##############################################################################\n",
    "### u.item\n",
    "# 1|Toy Story (1995)|01-Jan-1995||http://us.imdb.com/M/title-exact?Toy%20Story%20(1995)|0|0|0|1|1|1|0|0|0|0|0|0|0|0|0|0|0|0|0\n",
    "# 2|GoldenEye (1995)|01-Jan-1995||http://us.imdb.com/M/title-exact?GoldenEye%20(1995)|0|1|1|0|0|0|0|0|0|0|0|0|0|0|0|0|1|0|0\n",
    "\n",
    "# Each line has a user ID, a movie ID, the rating given to the movie by the user, and a timestamp.\n",
    "### u.data\n",
    "# 196 242 3 881250949\n",
    "# 186 302 3 891717742\n",
    "\n",
    "def loadMovieLens(path='data'):\n",
    "    # Get movie titles\n",
    "    movies={}\n",
    "    for line in open(path+'/u.item', encoding='latin-1'):\n",
    "        (id,title)=line.split('|')[0:2] # 1|Toy Story\n",
    "        movies[id]=title\n",
    "    # Load data\n",
    "    prefs={}\n",
    "    for line in open(path+'/u.data', encoding='latin-1'):\n",
    "        (user,movieid,rating,ts)=line.split('\\t')\n",
    "        prefs.setdefault(user,{})\n",
    "        prefs[user][movies[movieid]]=float(rating)\n",
    "    return prefs"
   ]
  },
  {
   "cell_type": "code",
   "execution_count": 28,
   "metadata": {
    "collapsed": true
   },
   "outputs": [],
   "source": [
    "prefs = loadMovieLens()"
   ]
  },
  {
   "cell_type": "code",
   "execution_count": 29,
   "metadata": {},
   "outputs": [
    {
     "name": "stdout",
     "output_type": "stream",
     "text": [
      "\n",
      "10 critics for 85th person from Movielens Dataset\n",
      "0   To Kill a Mockingbird (1962) :  3.0\n",
      "1   Streetcar Named Desire, A (1951) :  4.0\n",
      "2   George of the Jungle (1997) :  2.0\n",
      "3   Beauty and the Beast (1991) :  3.0\n",
      "4   Legends of the Fall (1994) :  2.0\n",
      "5   Koyaanisqatsi (1983) :  3.0\n",
      "6   Star Trek: The Wrath of Khan (1982) :  3.0\n",
      "7   Grifters, The (1990) :  4.0\n",
      "8   Heathers (1989) :  3.0\n",
      "9   Birdcage, The (1996) :  2.0\n"
     ]
    }
   ],
   "source": [
    "print(\"\\n10 critics for 85th person from Movielens Dataset\")\n",
    "\n",
    "i = 0\n",
    "for movie in prefs['85'].keys():\n",
    "    if i < 10:\n",
    "        print(i, \" \",movie, \": \", prefs['85'][movie])\n",
    "    i +=1"
   ]
  },
  {
   "cell_type": "code",
   "execution_count": 30,
   "metadata": {},
   "outputs": [
    {
     "data": {
      "text/plain": [
       "[(5.000000000000001, 'Star Kid (1997)'),\n",
       " (5.0, 'They Made Me a Criminal (1939)'),\n",
       " (5.0, \"Someone Else's America (1995)\"),\n",
       " (5.0, 'Santa with Muscles (1996)'),\n",
       " (5.0, 'Saint of Fort Washington, The (1993)'),\n",
       " (5.0, 'Marlene Dietrich: Shadow and Light (1996) '),\n",
       " (5.0, 'Great Day in Harlem, A (1994)'),\n",
       " (5.0, 'Entertaining Angels: The Dorothy Day Story (1996)'),\n",
       " (4.999999999999999, 'Aiqing wansui (1994)'),\n",
       " (4.879988530388242, 'Pather Panchali (1955)')]"
      ]
     },
     "execution_count": 30,
     "metadata": {},
     "output_type": "execute_result"
    }
   ],
   "source": [
    "getRecommendations(prefs, '87')[:10]"
   ]
  },
  {
   "cell_type": "code",
   "execution_count": 31,
   "metadata": {},
   "outputs": [
    {
     "name": "stdout",
     "output_type": "stream",
     "text": [
      "100 / 1664\n",
      "200 / 1664\n",
      "300 / 1664\n",
      "400 / 1664\n",
      "500 / 1664\n",
      "600 / 1664\n",
      "700 / 1664\n",
      "800 / 1664\n",
      "900 / 1664\n",
      "1000 / 1664\n",
      "1100 / 1664\n",
      "1200 / 1664\n",
      "1300 / 1664\n",
      "1400 / 1664\n",
      "1500 / 1664\n",
      "1600 / 1664\n"
     ]
    }
   ],
   "source": [
    "## This takes a lot of time -- Do it at low-traffic times!!\n",
    "itemsim = calculateSimilarItems(prefs,n=50)"
   ]
  },
  {
   "cell_type": "code",
   "execution_count": 32,
   "metadata": {},
   "outputs": [
    {
     "name": "stdout",
     "output_type": "stream",
     "text": [
      "\n",
      "Item-based recommendations for Movielens Dataset\n",
      "\n",
      "\t [(5.0, \"What's Eating Gilbert Grape (1993)\"), (5.0, 'Vertigo (1958)'), (5.0, 'Usual Suspects, The (1995)'), (5.0, 'Toy Story (1995)'), (5.0, 'Titanic (1997)'), (5.0, 'Sword in the Stone, The (1963)'), (5.0, 'Stand by Me (1986)'), (5.0, 'Sling Blade (1996)'), (5.0, 'Silence of the Lambs, The (1991)'), (5.0, 'Shining, The (1980)')]\n"
     ]
    }
   ],
   "source": [
    "print(\"\\nItem-based recommendations for Movielens Dataset\\n\\n\\t\",\n",
    "      getRecommendedItems(prefs,itemsim,'87')[0:10])"
   ]
  }
 ],
 "metadata": {
  "kernelspec": {
   "display_name": "Python 3",
   "language": "python",
   "name": "python3"
  },
  "language_info": {
   "codemirror_mode": {
    "name": "ipython",
    "version": 3
   },
   "file_extension": ".py",
   "mimetype": "text/x-python",
   "name": "python",
   "nbconvert_exporter": "python",
   "pygments_lexer": "ipython3",
   "version": "3.6.1"
  }
 },
 "nbformat": 4,
 "nbformat_minor": 2
}
